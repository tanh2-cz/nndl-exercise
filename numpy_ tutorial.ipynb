{
 "cells": [
  {
   "cell_type": "markdown",
   "metadata": {},
   "source": [
    "#                                           numpy 练习题"
   ]
  },
  {
   "cell_type": "markdown",
   "metadata": {
    "collapsed": true
   },
   "source": [
    " "
   ]
  },
  {
   "cell_type": "markdown",
   "metadata": {},
   "source": [
    "### numpy 的array操作"
   ]
  },
  {
   "cell_type": "markdown",
   "metadata": {},
   "source": [
    "#### 1.导入numpy库"
   ]
  },
  {
   "cell_type": "code",
   "execution_count": 33,
   "metadata": {
    "collapsed": true
   },
   "outputs": [],
   "source": [
    "import numpy as np"
   ]
  },
  {
   "cell_type": "markdown",
   "metadata": {},
   "source": [
    "#### 2.建立一个一维数组 a 初始化为[4,5,6], (1)输出a 的类型（type）(2)输出a的各维度的大小（shape）(3)输出 a的第一个元素（值为4）"
   ]
  },
  {
   "cell_type": "code",
   "execution_count": 34,
   "metadata": {
    "collapsed": true
   },
   "outputs": [
    {
     "name": "stdout",
     "output_type": "stream",
     "text": [
      "a 的类型: <class 'numpy.ndarray'>\n",
      "a 的形状: (3,)\n",
      "a 的第一个元素: 4\n"
     ]
    }
   ],
   "source": [
    "# 初始化一维数组 a\n",
    "a = np.array([4, 5, 6])\n",
    "\n",
    "# (1) 输出 a 的类型\n",
    "print(\"a 的类型:\", type(a))\n",
    "\n",
    "# (2) 输出 a 的各维度大小\n",
    "print(\"a 的形状:\", a.shape)\n",
    "\n",
    "# (3) 输出 a 的第一个元素\n",
    "print(\"a 的第一个元素:\", a[0])"
   ]
  },
  {
   "cell_type": "markdown",
   "metadata": {},
   "source": [
    "#### 3.建立一个二维数组 b,初始化为 [ [4, 5, 6],[1, 2, 3]] (1)输出各维度的大小（shape）(2)输出 b(0,0)，b(0,1),b(1,1) 这三个元素（对应值分别为4,5,2）"
   ]
  },
  {
   "cell_type": "code",
   "execution_count": 35,
   "metadata": {
    "collapsed": true
   },
   "outputs": [
    {
     "name": "stdout",
     "output_type": "stream",
     "text": [
      "b 的形状: (2, 3)\n",
      "b(0,0): 4\n",
      "b(0,1): 5\n",
      "b(1,1): 2\n"
     ]
    }
   ],
   "source": [
    "# 初始化二维数组 b\n",
    "b = np.array([[4, 5, 6],\n",
    "              [1, 2, 3]])\n",
    "\n",
    "# (1) 输出 b 各维度的大小（shape）\n",
    "print(\"b 的形状:\", b.shape)\n",
    "\n",
    "# (2) 输出 b(0,0), b(0,1), b(1,1) 三个元素\n",
    "print(\"b(0,0):\", b[0, 0])\n",
    "print(\"b(0,1):\", b[0, 1])\n",
    "print(\"b(1,1):\", b[1, 1])"
   ]
  },
  {
   "cell_type": "markdown",
   "metadata": {},
   "source": [
    "#### 4.  (1)建立一个全0矩阵 a, 大小为 3x3; 类型为整型（提示: dtype = int）(2)建立一个全1矩阵b,大小为4x5;  (3)建立一个单位矩阵c ,大小为4x4; (4)生成一个随机数矩阵d,大小为 3x2."
   ]
  },
  {
   "cell_type": "code",
   "execution_count": 36,
   "metadata": {
    "collapsed": true
   },
   "outputs": [
    {
     "name": "stdout",
     "output_type": "stream",
     "text": [
      "全0矩阵 a:\n",
      "[[0 0 0]\n",
      " [0 0 0]\n",
      " [0 0 0]]\n",
      "\n",
      "全1矩阵 b:\n",
      "[[1. 1. 1. 1. 1.]\n",
      " [1. 1. 1. 1. 1.]\n",
      " [1. 1. 1. 1. 1.]\n",
      " [1. 1. 1. 1. 1.]]\n",
      "\n",
      "单位矩阵 c:\n",
      "[[1. 0. 0. 0.]\n",
      " [0. 1. 0. 0.]\n",
      " [0. 0. 1. 0.]\n",
      " [0. 0. 0. 1.]]\n",
      "\n",
      "随机数矩阵 d:\n",
      "[[0.59750203 0.39463389]\n",
      " [0.21584285 0.77265256]\n",
      " [0.81900592 0.88152195]]\n"
     ]
    }
   ],
   "source": [
    "# (1) 建立一个全0矩阵 a, 大小为 3x3, 类型为整型\n",
    "a = np.zeros((3, 3), dtype=int)\n",
    "print(\"全0矩阵 a:\")\n",
    "print(a)\n",
    "\n",
    "# (2) 建立一个全1矩阵 b, 大小为 4x5\n",
    "b = np.ones((4, 5))\n",
    "print(\"\\n全1矩阵 b:\")\n",
    "print(b)\n",
    "\n",
    "# (3) 建立一个单位矩阵 c, 大小为 4x4\n",
    "c = np.eye(4)\n",
    "print(\"\\n单位矩阵 c:\")\n",
    "print(c)\n",
    "\n",
    "# (4) 生成一个随机数矩阵 d, 大小为 3x2\n",
    "d = np.random.rand(3, 2)\n",
    "print(\"\\n随机数矩阵 d:\")\n",
    "print(d)"
   ]
  },
  {
   "cell_type": "markdown",
   "metadata": {},
   "source": [
    "#### 5. 建立一个数组 a,(值为[[1, 2, 3, 4], [5, 6, 7, 8], [9, 10, 11, 12]] ) ,(1)打印a; (2)输出  下标为(2,3),(0,0) 这两个数组元素的值"
   ]
  },
  {
   "cell_type": "code",
   "execution_count": 37,
   "metadata": {
    "collapsed": true
   },
   "outputs": [
    {
     "name": "stdout",
     "output_type": "stream",
     "text": [
      "数组 a:\n",
      "[[ 1  2  3  4]\n",
      " [ 5  6  7  8]\n",
      " [ 9 10 11 12]]\n",
      "\n",
      "a(2,3) 的值: 12\n",
      "a(0,0) 的值: 1\n"
     ]
    }
   ],
   "source": [
    "# 建立数组 a\n",
    "a = np.array([[1, 2, 3, 4],\n",
    "              [5, 6, 7, 8],\n",
    "              [9, 10, 11, 12]])\n",
    "\n",
    "# (1) 打印 a\n",
    "print(\"数组 a:\")\n",
    "print(a)\n",
    "\n",
    "# (2) 输出下标为 (2,3) 和 (0,0) 的数组元素的值\n",
    "print(\"\\na(2,3) 的值:\", a[2, 3])  # 下标 (2,3) 对应的值为 12\n",
    "print(\"a(0,0) 的值:\", a[0, 0])    # 下标 (0,0) 对应的值为 1"
   ]
  },
  {
   "cell_type": "markdown",
   "metadata": {},
   "source": [
    "#### 6.把上一题的 a数组的 0到1行 2到3列，放到b里面去，（此处不需要从新建立a,直接调用即可）(1),输出b;(2) 输出b 的（0,0）这个元素的值"
   ]
  },
  {
   "cell_type": "code",
   "execution_count": 38,
   "metadata": {
    "collapsed": true
   },
   "outputs": [
    {
     "name": "stdout",
     "output_type": "stream",
     "text": [
      "数组 b:\n",
      "[[3 4]\n",
      " [7 8]]\n",
      "\n",
      "b(0,0) 的值: 3\n"
     ]
    }
   ],
   "source": [
    "# 取 a 的第 0 到 1 行以及第 2 到 3 列\n",
    "b = a[0:2, 2:4]\n",
    "\n",
    "# (1) 输出 b\n",
    "print(\"数组 b:\")\n",
    "print(b)\n",
    "\n",
    "# (2) 输出 b 的 (0,0) 元素的值\n",
    "print(\"\\nb(0,0) 的值:\", b[0, 0])"
   ]
  },
  {
   "cell_type": "markdown",
   "metadata": {},
   "source": [
    " #### 7. 把第5题中数组a的最后两行所有元素放到 c中，（提示： a[1:2, :]）(1)输出 c ; (2) 输出 c 中第一行的最后一个元素（提示，使用 -1                 表示最后一个元素）"
   ]
  },
  {
   "cell_type": "code",
   "execution_count": 39,
   "metadata": {
    "collapsed": true
   },
   "outputs": [
    {
     "name": "stdout",
     "output_type": "stream",
     "text": [
      "数组 c:\n",
      "[[ 5  6  7  8]\n",
      " [ 9 10 11 12]]\n",
      "\n",
      "c 第一行的最后一个元素: 8\n"
     ]
    }
   ],
   "source": [
    "# 提取数组 a 的最后两行所有元素\n",
    "c = a[-2:, :]\n",
    "\n",
    "# (1) 输出 c\n",
    "print(\"数组 c:\")\n",
    "print(c)\n",
    "\n",
    "# (2) 输出 c 中第一行的最后一个元素（使用 -1 表示最后一个元素）\n",
    "print(\"\\nc 第一行的最后一个元素:\", c[0, -1])"
   ]
  },
  {
   "cell_type": "markdown",
   "metadata": {},
   "source": [
    "#### 8.建立数组a,初始化a为[[1, 2], [3, 4], [5, 6]]，输出 （0,0）（1,1）（2,0）这三个元素（提示： 使用 print(a[[0, 1, 2], [0, 1, 0]]) ）"
   ]
  },
  {
   "cell_type": "code",
   "execution_count": 40,
   "metadata": {
    "collapsed": true
   },
   "outputs": [
    {
     "name": "stdout",
     "output_type": "stream",
     "text": [
      "输出的元素为: [1 4 5]\n"
     ]
    }
   ],
   "source": [
    "# 建立数组 a\n",
    "a = np.array([[1, 2],\n",
    "              [3, 4],\n",
    "              [5, 6]])\n",
    "\n",
    "# 输出 (0,0), (1,1), (2,0) 这三个元素\n",
    "print(\"输出的元素为:\", a[[0, 1, 2], [0, 1, 0]])"
   ]
  },
  {
   "cell_type": "markdown",
   "metadata": {},
   "source": [
    "#### 9.建立矩阵a ,初始化为[[1, 2, 3], [4, 5, 6], [7, 8, 9], [10, 11, 12]]，输出(0,0),(1,2),(2,0),(3,1) (提示使用 b = np.array([0, 2, 0, 1])                     print(a[np.arange(4), b]))"
   ]
  },
  {
   "cell_type": "code",
   "execution_count": 41,
   "metadata": {
    "collapsed": true
   },
   "outputs": [
    {
     "name": "stdout",
     "output_type": "stream",
     "text": [
      "输出的元素为: [ 1  6  7 11]\n"
     ]
    }
   ],
   "source": [
    "# 建立矩阵 a\n",
    "a = np.array([[1, 2, 3],\n",
    "              [4, 5, 6],\n",
    "              [7, 8, 9],\n",
    "              [10, 11, 12]])\n",
    "\n",
    "# 定义列索引数组 b，对应要提取的元素位置\n",
    "b = np.array([0, 2, 0, 1])\n",
    "\n",
    "# 利用 np.arange(4) 生成行索引 [0,1,2,3]，结合 b 得到指定元素\n",
    "print(\"输出的元素为:\", a[np.arange(4), b])"
   ]
  },
  {
   "cell_type": "markdown",
   "metadata": {},
   "source": [
    "#### 10.对9 中输出的那四个元素，每个都加上10，然后重新输出矩阵a.(提示： a[np.arange(4), b] += 10 ）"
   ]
  },
  {
   "cell_type": "code",
   "execution_count": 42,
   "metadata": {
    "collapsed": true
   },
   "outputs": [
    {
     "name": "stdout",
     "output_type": "stream",
     "text": [
      "矩阵a:\n",
      "[[11  2  3]\n",
      " [ 4  5 16]\n",
      " [17  8  9]\n",
      " [10 21 12]]\n"
     ]
    }
   ],
   "source": [
    "a[np.arange(4), b] += 10\n",
    "\n",
    "print(\"矩阵a:\")\n",
    "print(a)"
   ]
  },
  {
   "cell_type": "markdown",
   "metadata": {},
   "source": [
    "### array 的数学运算"
   ]
  },
  {
   "cell_type": "markdown",
   "metadata": {},
   "source": [
    "#### 11.  执行 x = np.array([1, 2])，然后输出 x 的数据类型"
   ]
  },
  {
   "cell_type": "code",
   "execution_count": 43,
   "metadata": {
    "collapsed": true
   },
   "outputs": [
    {
     "name": "stdout",
     "output_type": "stream",
     "text": [
      "x 的数据类型: int32\n"
     ]
    }
   ],
   "source": [
    "# 创建数组 x\n",
    "x = np.array([1, 2])\n",
    "\n",
    "# 输出 x 的数据类型\n",
    "print(\"x 的数据类型:\", x.dtype)"
   ]
  },
  {
   "cell_type": "markdown",
   "metadata": {},
   "source": [
    "#### 12.执行 x = np.array([1.0, 2.0]) ，然后输出 x 的数据类类型"
   ]
  },
  {
   "cell_type": "code",
   "execution_count": 44,
   "metadata": {
    "collapsed": true
   },
   "outputs": [
    {
     "name": "stdout",
     "output_type": "stream",
     "text": [
      "x 的数据类型: float64\n"
     ]
    }
   ],
   "source": [
    "# 创建数组 x\n",
    "x = np.array([1.0, 2.0])\n",
    "\n",
    "# 输出 x 的数据类型\n",
    "print(\"x 的数据类型:\", x.dtype)"
   ]
  },
  {
   "cell_type": "markdown",
   "metadata": {},
   "source": [
    "#### 13.执行 x = np.array([[1, 2], [3, 4]], dtype=np.float64) ，y = np.array([[5, 6], [7, 8]], dtype=np.float64)，然后输出 x+y ,和 np.add(x,y)"
   ]
  },
  {
   "cell_type": "code",
   "execution_count": 45,
   "metadata": {
    "collapsed": true
   },
   "outputs": [
    {
     "name": "stdout",
     "output_type": "stream",
     "text": [
      "x + y =\n",
      "[[ 6.  8.]\n",
      " [10. 12.]]\n",
      "\n",
      "np.add(x, y) =\n",
      "[[ 6.  8.]\n",
      " [10. 12.]]\n"
     ]
    }
   ],
   "source": [
    "# 定义数组 x 和 y\n",
    "x = np.array([[1, 2], [3, 4]], dtype=np.float64)\n",
    "y = np.array([[5, 6], [7, 8]], dtype=np.float64)\n",
    "\n",
    "# (1) 直接使用 x + y\n",
    "print(\"x + y =\")\n",
    "print(x + y)\n",
    "\n",
    "# (2) 使用 np.add(x, y)\n",
    "print(\"\\nnp.add(x, y) =\")\n",
    "print(np.add(x, y))"
   ]
  },
  {
   "cell_type": "markdown",
   "metadata": {},
   "source": [
    "#### 14. 利用 13题目中的x,y 输出 x-y 和 np.subtract(x,y)"
   ]
  },
  {
   "cell_type": "code",
   "execution_count": 46,
   "metadata": {
    "collapsed": true
   },
   "outputs": [
    {
     "name": "stdout",
     "output_type": "stream",
     "text": [
      "x - y =\n",
      "[[-4. -4.]\n",
      " [-4. -4.]]\n",
      "\n",
      "np.subtract(x, y) =\n",
      "[[-4. -4.]\n",
      " [-4. -4.]]\n"
     ]
    }
   ],
   "source": [
    "# (1) 直接使用 x - y\n",
    "print(\"x - y =\")\n",
    "print(x - y)\n",
    "\n",
    "# (2) 使用 np.subtract(x, y)\n",
    "print(\"\\nnp.subtract(x, y) =\")\n",
    "print(np.subtract(x, y))"
   ]
  },
  {
   "cell_type": "markdown",
   "metadata": {},
   "source": [
    "#### 15. 利用13题目中的x，y 输出 x*y ,和 np.multiply(x, y) 还有  np.dot(x,y),比较差异。然后自己换一个不是方阵的试试。"
   ]
  },
  {
   "cell_type": "code",
   "execution_count": 47,
   "metadata": {
    "collapsed": true
   },
   "outputs": [
    {
     "name": "stdout",
     "output_type": "stream",
     "text": [
      "x * y =\n",
      "[[ 5. 12.]\n",
      " [21. 32.]]\n",
      "\n",
      "np.multiply(x, y) =\n",
      "[[ 5. 12.]\n",
      " [21. 32.]]\n",
      "\n",
      "np.dot(x, y) =\n",
      "[[19. 22.]\n",
      " [43. 50.]]\n",
      "\n",
      "新的 x（2x3） =\n",
      "[[1. 2. 3.]\n",
      " [4. 5. 6.]]\n",
      "新的 y（3x2） =\n",
      "[[ 7.  8.]\n",
      " [ 9. 10.]\n",
      " [11. 12.]]\n",
      "\n",
      "x * y =\n",
      "逐元素乘法报错: operands could not be broadcast together with shapes (2,3) (3,2) \n",
      "\n",
      "np.dot(x, y) =\n",
      "[[ 58.  64.]\n",
      " [139. 154.]]\n"
     ]
    }
   ],
   "source": [
    "# (1) x * y\n",
    "print(\"x * y =\")\n",
    "print(x * y)\n",
    "\n",
    "# (2) np.multiply(x, y)\n",
    "print(\"\\nnp.multiply(x, y) =\")\n",
    "print(np.multiply(x, y))\n",
    "\n",
    "# (3) np.dot(x, y) —— 矩阵乘法\n",
    "print(\"\\nnp.dot(x, y) =\")\n",
    "print(np.dot(x, y))\n",
    "\n",
    "# 比较说明：\n",
    "# x * y 和 np.multiply(x, y) 都是对应元素逐个相乘\n",
    "# np.dot(x, y) 是矩阵乘法，相当于线性代数中的矩阵乘积\n",
    "\n",
    "# ---- 换一个不是方阵的例子 ----\n",
    "# 例如：x是2x3矩阵，y是3x2矩阵\n",
    "x = np.array([[1, 2, 3], [4, 5, 6]], dtype=np.float64)\n",
    "y = np.array([[7, 8], [9, 10], [11, 12]], dtype=np.float64)\n",
    "\n",
    "print(\"\\n新的 x（2x3） =\")\n",
    "print(x)\n",
    "print(\"新的 y（3x2） =\")\n",
    "print(y)\n",
    "\n",
    "# 逐元素乘法会出错，因为形状不匹配\n",
    "try:\n",
    "    print(\"\\nx * y =\")\n",
    "    print(x * y)  # 这个会报错，因为形状不兼容\n",
    "except ValueError as e:\n",
    "    print(\"逐元素乘法报错:\", e)\n",
    "\n",
    "# 矩阵乘法 np.dot(x, y)\n",
    "print(\"\\nnp.dot(x, y) =\")\n",
    "print(np.dot(x, y))\n",
    "\n",
    "# 说明：\n",
    "# 逐元素乘法要求x和y形状一致，而矩阵乘法只要求内维度匹配（x的列数 = y的行数）"
   ]
  },
  {
   "cell_type": "markdown",
   "metadata": {},
   "source": [
    "#### 16. 利用13题目中的x,y,输出 x / y .(提示 ： 使用函数 np.divide())"
   ]
  },
  {
   "cell_type": "code",
   "execution_count": 48,
   "metadata": {},
   "outputs": [
    {
     "name": "stdout",
     "output_type": "stream",
     "text": [
      "x / y =\n",
      "[[0.2        0.33333333]\n",
      " [0.42857143 0.5       ]]\n"
     ]
    }
   ],
   "source": [
    "# 13题定义的数组 x 和 y\n",
    "x = np.array([[1, 2], [3, 4]], dtype=np.float64)\n",
    "y = np.array([[5, 6], [7, 8]], dtype=np.float64)\n",
    "\n",
    "# 使用 np.divide() 计算逐元素相除\n",
    "result = np.divide(x, y)\n",
    "\n",
    "# 输出结果\n",
    "print(\"x / y =\")\n",
    "print(result)"
   ]
  },
  {
   "cell_type": "markdown",
   "metadata": {},
   "source": [
    "#### 17. 利用13题目中的x,输出 x的 开方。(提示： 使用函数 np.sqrt() )"
   ]
  },
  {
   "cell_type": "code",
   "execution_count": 49,
   "metadata": {
    "collapsed": true
   },
   "outputs": [
    {
     "name": "stdout",
     "output_type": "stream",
     "text": [
      "x的开方 =\n",
      "[[1.         1.41421356]\n",
      " [1.73205081 2.        ]]\n"
     ]
    }
   ],
   "source": [
    "# 计算x的开方\n",
    "sqrt_x = np.sqrt(x)\n",
    "\n",
    "# 输出结果\n",
    "print(\"x的开方 =\")\n",
    "print(sqrt_x)\n"
   ]
  },
  {
   "cell_type": "markdown",
   "metadata": {},
   "source": [
    "#### 18.利用13题目中的x,y ,执行 print(x.dot(y)) 和 print(np.dot(x,y))"
   ]
  },
  {
   "cell_type": "code",
   "execution_count": 50,
   "metadata": {
    "collapsed": true
   },
   "outputs": [
    {
     "name": "stdout",
     "output_type": "stream",
     "text": [
      "x.dot(y) =\n",
      "[[19. 22.]\n",
      " [43. 50.]]\n",
      "np.dot(x, y) =\n",
      "[[19. 22.]\n",
      " [43. 50.]]\n"
     ]
    }
   ],
   "source": [
    "# 计算矩阵乘积（点乘）\n",
    "print(\"x.dot(y) =\")\n",
    "print(x.dot(y))\n",
    "\n",
    "print(\"np.dot(x, y) =\")\n",
    "print(np.dot(x, y))"
   ]
  },
  {
   "cell_type": "markdown",
   "metadata": {},
   "source": [
    "##### 19.利用13题目中的 x,进行求和。提示：输出三种求和 (1)print(np.sum(x)):   (2)print(np.sum(x，axis =0 ));   (3)print(np.sum(x,axis = 1))"
   ]
  },
  {
   "cell_type": "code",
   "execution_count": 51,
   "metadata": {
    "collapsed": true
   },
   "outputs": [
    {
     "name": "stdout",
     "output_type": "stream",
     "text": [
      "np.sum(x) =\n",
      "10.0\n",
      "np.sum(x, axis=0) =\n",
      "[4. 6.]\n",
      "np.sum(x, axis=1) =\n",
      "[3. 7.]\n"
     ]
    }
   ],
   "source": [
    "# (1) 整个数组的总和\n",
    "print(\"np.sum(x) =\")\n",
    "print(np.sum(x))\n",
    "\n",
    "# (2) 按列求和\n",
    "print(\"np.sum(x, axis=0) =\")\n",
    "print(np.sum(x, axis=0))\n",
    "\n",
    "# (3) 按行求和\n",
    "print(\"np.sum(x, axis=1) =\")\n",
    "print(np.sum(x, axis=1))"
   ]
  },
  {
   "cell_type": "markdown",
   "metadata": {},
   "source": [
    "#### 20.利用13题目中的 x,进行求平均数（提示：输出三种平均数(1)print(np.mean(x)) (2)print(np.mean(x,axis = 0))(3) print(np.mean(x,axis =1))）"
   ]
  },
  {
   "cell_type": "code",
   "execution_count": 52,
   "metadata": {
    "collapsed": true
   },
   "outputs": [
    {
     "name": "stdout",
     "output_type": "stream",
     "text": [
      "np.mean(x) =\n",
      "2.5\n",
      "np.mean(x, axis=0) =\n",
      "[2. 3.]\n",
      "np.mean(x, axis=1) =\n",
      "[1.5 3.5]\n"
     ]
    }
   ],
   "source": [
    "# (1) 整个数组的平均数\n",
    "print(\"np.mean(x) =\")\n",
    "print(np.mean(x))\n",
    "\n",
    "# (2) 按列计算平均数\n",
    "print(\"np.mean(x, axis=0) =\")\n",
    "print(np.mean(x, axis=0))\n",
    "\n",
    "# (3) 按行计算平均数\n",
    "print(\"np.mean(x, axis=1) =\")\n",
    "print(np.mean(x, axis=1))"
   ]
  },
  {
   "cell_type": "markdown",
   "metadata": {},
   "source": [
    "#### 21.利用13题目中的x，对x 进行矩阵转置，然后输出转置后的结果，（提示： x.T 表示对 x 的转置）"
   ]
  },
  {
   "cell_type": "code",
   "execution_count": 53,
   "metadata": {
    "collapsed": true
   },
   "outputs": [
    {
     "name": "stdout",
     "output_type": "stream",
     "text": [
      "x转置后的结果：\n",
      "[[1. 3.]\n",
      " [2. 4.]]\n"
     ]
    }
   ],
   "source": [
    "# 对x进行转置\n",
    "x_transposed = x.T\n",
    "\n",
    "# 输出转置后的结果\n",
    "print(\"x转置后的结果：\")\n",
    "print(x_transposed)"
   ]
  },
  {
   "cell_type": "markdown",
   "metadata": {
    "collapsed": true
   },
   "source": [
    "#### 22.利用13题目中的x,求e的指数（提示： 函数 np.exp()）"
   ]
  },
  {
   "cell_type": "code",
   "execution_count": 54,
   "metadata": {
    "collapsed": true
   },
   "outputs": [
    {
     "name": "stdout",
     "output_type": "stream",
     "text": [
      "x的e的指数：\n",
      "[[ 2.71828183  7.3890561 ]\n",
      " [20.08553692 54.59815003]]\n"
     ]
    }
   ],
   "source": [
    "# 计算x的每个元素的e的指数\n",
    "exp_x = np.exp(x)\n",
    "\n",
    "# 输出结果\n",
    "print(\"x的e的指数：\")\n",
    "print(exp_x)"
   ]
  },
  {
   "cell_type": "markdown",
   "metadata": {},
   "source": [
    "#### 23.利用13题目中的 x,求值最大的下标（提示(1)print(np.argmax(x)) ,(2) print(np.argmax(x, axis =0))(3)print(np.argmax(x),axis =1))"
   ]
  },
  {
   "cell_type": "code",
   "execution_count": 55,
   "metadata": {},
   "outputs": [
    {
     "name": "stdout",
     "output_type": "stream",
     "text": [
      "np.argmax(x) =\n",
      "3\n",
      "np.argmax(x, axis=0) =\n",
      "[1 1]\n",
      "np.argmax(x, axis=1) =\n",
      "[1 1]\n"
     ]
    }
   ],
   "source": [
    "# (1) 求整个数组中最大值的下标\n",
    "print(\"np.argmax(x) =\")\n",
    "print(np.argmax(x))\n",
    "\n",
    "# (2) 求按列方向最大值的下标\n",
    "print(\"np.argmax(x, axis=0) =\")\n",
    "print(np.argmax(x, axis=0))\n",
    "\n",
    "# (3) 求按行方向最大值的下标\n",
    "print(\"np.argmax(x, axis=1) =\")\n",
    "print(np.argmax(x, axis=1))"
   ]
  },
  {
   "cell_type": "markdown",
   "metadata": {},
   "source": [
    "#### 24,画图，y=x*x 其中 x = np.arange(0, 100, 0.1) （提示这里用到  matplotlib.pyplot 库）"
   ]
  },
  {
   "cell_type": "code",
   "execution_count": 56,
   "metadata": {
    "collapsed": true
   },
   "outputs": [
    {
     "data": {
      "image/png": "[encoded data removed]",
      "text/plain": [
       "<Figure size 640x480 with 1 Axes>"
      ]
     },
     "metadata": {},
     "output_type": "display_data"
    }
   ],
   "source": [
    "import matplotlib.pyplot as plt\n",
    "\n",
    "# 定义 x 和 y\n",
    "x = np.arange(0, 100, 0.1)\n",
    "y = x * x\n",
    "\n",
    "# 绘制图形\n",
    "plt.plot(x, y)\n",
    "\n",
    "# 添加标题和标签\n",
    "plt.title('Graph of y = x^2')\n",
    "plt.xlabel('x')\n",
    "plt.ylabel('y')\n",
    "\n",
    "# 显示图形\n",
    "plt.show()"
   ]
  },
  {
   "cell_type": "markdown",
   "metadata": {},
   "source": [
    "#### 25.画图。画正弦函数和余弦函数， x = np.arange(0, 3 * np.pi, 0.1)(提示：这里用到 np.sin() np.cos() 函数和 matplotlib.pyplot 库)"
   ]
  },
  {
   "cell_type": "code",
   "execution_count": 57,
   "metadata": {
    "collapsed": true
   },
   "outputs": [
    {
     "data": {
      "image/png": "[encoded data removed]",
      "text/plain": [
       "<Figure size 640x480 with 1 Axes>"
      ]
     },
     "metadata": {},
     "output_type": "display_data"
    }
   ],
   "source": [
    "# 定义 x\n",
    "x = np.arange(0, 3 * np.pi, 0.1)\n",
    "\n",
    "# 计算 y 值\n",
    "y_sin = np.sin(x)\n",
    "y_cos = np.cos(x)\n",
    "\n",
    "# 绘制正弦和余弦函数\n",
    "plt.plot(x, y_sin, label='sin(x)')\n",
    "plt.plot(x, y_cos, label='cos(x)', linestyle='--')\n",
    "\n",
    "# 添加标题和标签\n",
    "plt.title('Sine and Cosine Functions')\n",
    "plt.xlabel('x')\n",
    "plt.ylabel('y')\n",
    "\n",
    "# 添加图例\n",
    "plt.legend()\n",
    "\n",
    "# 显示图形\n",
    "plt.show()"
   ]
  }
 ],
 "metadata": {
  "anaconda-cloud": {},
  "kernelspec": {
   "display_name": "Python 3",
   "language": "python",
   "name": "python3"
  },
  "language_info": {
   "codemirror_mode": {
    "name": "ipython",
    "version": 3
   },
   "file_extension": ".py",
   "mimetype": "text/x-python",
   "name": "python",
   "nbconvert_exporter": "python",
   "pygments_lexer": "ipython3",
   "version": "3.11.2"
  }
 },
 "nbformat": 4,
 "nbformat_minor": 1
}
