{
 "cells": [
  {
   "cell_type": "markdown",
   "metadata": {},
   "source": [
    "## 准备数据"
   ]
  },
  {
   "cell_type": "code",
   "execution_count": 18,
   "metadata": {},
   "outputs": [],
   "source": [
    "import os\n",
    "import numpy as np\n",
    "import tensorflow as tf\n",
    "from tensorflow import keras\n",
    "from tensorflow.keras import layers, optimizers, datasets\n",
    "\n",
    "os.environ['TF_CPP_MIN_LOG_LEVEL'] = '2'  # or any {'0', '1', '2'}\n",
    "\n",
    "def mnist_dataset():\n",
    "    (x, y), (x_test, y_test) = datasets.mnist.load_data()\n",
    "    #normalize\n",
    "    x = x/255.0\n",
    "    x_test = x_test/255.0\n",
    "    return (x, y), (x_test, y_test)"
   ]
  },
  {
   "cell_type": "code",
   "execution_count": 19,
   "metadata": {},
   "outputs": [
    {
     "name": "stdout",
     "output_type": "stream",
     "text": [
      "[(1, 'a'), (2, 'b'), (3, 'c'), (4, 'd')]\n"
     ]
    }
   ],
   "source": [
    "print(list(zip([1, 2, 3, 4], ['a', 'b', 'c', 'd'])))"
   ]
  },
  {
   "cell_type": "markdown",
   "metadata": {},
   "source": [
    "## 建立模型"
   ]
  },
  {
   "cell_type": "code",
   "execution_count": 20,
   "metadata": {},
   "outputs": [],
   "source": [
    "class myModel:\n",
    "    def __init__(self):\n",
    "        ####################\n",
    "        '''声明模型对应的参数'''\n",
    "        self.W1 = tf.Variable(tf.random.normal(shape=(28 * 28, 512), stddev=0.05), trainable=True)\n",
    "        self.b1 = tf.Variable(tf.zeros(shape=(512,)), trainable=True)\n",
    "        self.W2 = tf.Variable(tf.random.normal(shape=(512, 10), stddev=0.05), trainable=True)\n",
    "        self.b2 = tf.Variable(tf.zeros(shape=(10,)), trainable=True)\n",
    "        ####################\n",
    "    def __call__(self, x):\n",
    "        ####################\n",
    "        '''实现模型函数体，返回未归一化的logits'''\n",
    "        x_flattened = tf.reshape(x, [-1, 784])\n",
    "        h1 = tf.matmul(x_flattened, self.W1) + self.b1\n",
    "        activated_h1 = tf.tanh(h1)\n",
    "        logits = tf.matmul(activated_h1, self.W2) + self.b2\n",
    "        ####################\n",
    "        return logits\n",
    "        \n",
    "model = myModel()\n",
    "\n",
    "optimizer = optimizers.Adam()"
   ]
  },
  {
   "cell_type": "markdown",
   "metadata": {},
   "source": [
    "## 计算 loss"
   ]
  },
  {
   "cell_type": "code",
   "execution_count": 21,
   "metadata": {},
   "outputs": [],
   "source": [
    "@tf.function\n",
    "def compute_loss(logits, labels):\n",
    "    return tf.reduce_mean(\n",
    "        tf.nn.sparse_softmax_cross_entropy_with_logits(\n",
    "            logits=logits, labels=labels))\n",
    "\n",
    "@tf.function\n",
    "def compute_accuracy(logits, labels):\n",
    "    predictions = tf.argmax(logits, axis=1)\n",
    "    return tf.reduce_mean(tf.cast(tf.equal(predictions, labels), tf.float32))\n",
    "\n",
    "@tf.function\n",
    "def train_one_step(model, optimizer, x, y):\n",
    "    with tf.GradientTape() as tape:\n",
    "        logits = model(x)\n",
    "        loss = compute_loss(logits, y)\n",
    "\n",
    "    # compute gradient\n",
    "    trainable_vars = [model.W1, model.W2, model.b1, model.b2]\n",
    "    grads = tape.gradient(loss, trainable_vars)\n",
    "    for g, v in zip(grads, trainable_vars):\n",
    "        v.assign_sub(0.01*g)\n",
    "\n",
    "    accuracy = compute_accuracy(logits, y)\n",
    "\n",
    "    # loss and accuracy is scalar tensor\n",
    "    return loss, accuracy\n",
    "\n",
    "@tf.function\n",
    "def test(model, x, y):\n",
    "    logits = model(x)\n",
    "    loss = compute_loss(logits, y)\n",
    "    accuracy = compute_accuracy(logits, y)\n",
    "    return loss, accuracy"
   ]
  },
  {
   "cell_type": "markdown",
   "metadata": {},
   "source": [
    "## 实际训练"
   ]
  },
  {
   "cell_type": "code",
   "execution_count": 22,
   "metadata": {},
   "outputs": [
    {
     "name": "stdout",
     "output_type": "stream",
     "text": [
      "epoch 0 : loss 2.3143072 ; accuracy 0.1269\n",
      "epoch 1 : loss 2.2918127 ; accuracy 0.13778333\n",
      "epoch 2 : loss 2.2699811 ; accuracy 0.1502\n",
      "epoch 3 : loss 2.2487552 ; accuracy 0.164\n",
      "epoch 4 : loss 2.2280843 ; accuracy 0.17986667\n",
      "epoch 5 : loss 2.2079265 ; accuracy 0.19736667\n",
      "epoch 6 : loss 2.1882427 ; accuracy 0.21443333\n",
      "epoch 7 : loss 2.1690006 ; accuracy 0.23208334\n",
      "epoch 8 : loss 2.1501703 ; accuracy 0.24988334\n",
      "epoch 9 : loss 2.1317267 ; accuracy 0.26783332\n",
      "epoch 10 : loss 2.113647 ; accuracy 0.2848\n",
      "epoch 11 : loss 2.0959108 ; accuracy 0.3014\n",
      "epoch 12 : loss 2.0784998 ; accuracy 0.31955\n",
      "epoch 13 : loss 2.0613985 ; accuracy 0.33598334\n",
      "epoch 14 : loss 2.0445924 ; accuracy 0.35206667\n",
      "epoch 15 : loss 2.0280685 ; accuracy 0.36733332\n",
      "epoch 16 : loss 2.0118153 ; accuracy 0.3813\n",
      "epoch 17 : loss 1.9958224 ; accuracy 0.39461666\n",
      "epoch 18 : loss 1.9800806 ; accuracy 0.40956667\n",
      "epoch 19 : loss 1.964581 ; accuracy 0.42258334\n",
      "epoch 20 : loss 1.9493161 ; accuracy 0.43538332\n",
      "epoch 21 : loss 1.934279 ; accuracy 0.44791666\n",
      "epoch 22 : loss 1.9194628 ; accuracy 0.4588\n",
      "epoch 23 : loss 1.9048619 ; accuracy 0.47016665\n",
      "epoch 24 : loss 1.890471 ; accuracy 0.48258334\n",
      "epoch 25 : loss 1.8762848 ; accuracy 0.4932\n",
      "epoch 26 : loss 1.8622988 ; accuracy 0.5033\n",
      "epoch 27 : loss 1.8485087 ; accuracy 0.5136833\n",
      "epoch 28 : loss 1.8349102 ; accuracy 0.52415\n",
      "epoch 29 : loss 1.8214997 ; accuracy 0.5337833\n",
      "epoch 30 : loss 1.8082736 ; accuracy 0.54356664\n",
      "epoch 31 : loss 1.7952284 ; accuracy 0.5523833\n",
      "epoch 32 : loss 1.7823607 ; accuracy 0.56156665\n",
      "epoch 33 : loss 1.7696679 ; accuracy 0.5696167\n",
      "epoch 34 : loss 1.7571465 ; accuracy 0.57743335\n",
      "epoch 35 : loss 1.744794 ; accuracy 0.58495\n",
      "epoch 36 : loss 1.7326074 ; accuracy 0.59185\n",
      "epoch 37 : loss 1.7205843 ; accuracy 0.59875\n",
      "epoch 38 : loss 1.7087219 ; accuracy 0.6049833\n",
      "epoch 39 : loss 1.697018 ; accuracy 0.6120833\n",
      "epoch 40 : loss 1.6854697 ; accuracy 0.61805\n",
      "epoch 41 : loss 1.6740752 ; accuracy 0.6242167\n",
      "epoch 42 : loss 1.6628318 ; accuracy 0.6303167\n",
      "epoch 43 : loss 1.6517373 ; accuracy 0.6357\n",
      "epoch 44 : loss 1.6407896 ; accuracy 0.64066666\n",
      "epoch 45 : loss 1.6299863 ; accuracy 0.64598334\n",
      "epoch 46 : loss 1.6193255 ; accuracy 0.6505833\n",
      "epoch 47 : loss 1.608805 ; accuracy 0.6551667\n",
      "epoch 48 : loss 1.5984224 ; accuracy 0.6593\n",
      "epoch 49 : loss 1.5881761 ; accuracy 0.66326666\n",
      "test loss 1.5594438 ; accuracy 0.675\n"
     ]
    }
   ],
   "source": [
    "train_data, test_data = mnist_dataset()\n",
    "for epoch in range(50):\n",
    "    loss, accuracy = train_one_step(model, optimizer, \n",
    "                                    tf.constant(train_data[0], dtype=tf.float32), \n",
    "                                    tf.constant(train_data[1], dtype=tf.int64))\n",
    "    print('epoch', epoch, ': loss', loss.numpy(), '; accuracy', accuracy.numpy())\n",
    "loss, accuracy = test(model, \n",
    "                      tf.constant(test_data[0], dtype=tf.float32), \n",
    "                      tf.constant(test_data[1], dtype=tf.int64))\n",
    "\n",
    "print('test loss', loss.numpy(), '; accuracy', accuracy.numpy())"
   ]
  }
 ],
 "metadata": {
  "kernelspec": {
   "display_name": "Python 3",
   "language": "python",
   "name": "python3"
  },
  "language_info": {
   "codemirror_mode": {
    "name": "ipython",
    "version": 3
   },
   "file_extension": ".py",
   "mimetype": "text/x-python",
   "name": "python",
   "nbconvert_exporter": "python",
   "pygments_lexer": "ipython3",
   "version": "3.12.8"
  }
 },
 "nbformat": 4,
 "nbformat_minor": 2
}
