{
 "cells": [
  {
   "cell_type": "markdown",
   "metadata": {},
   "source": [
    "# 诗歌生成"
   ]
  },
  {
   "cell_type": "markdown",
   "metadata": {},
   "source": [
    "# 数据处理"
   ]
  },
  {
   "cell_type": "code",
   "execution_count": 20,
   "metadata": {},
   "outputs": [],
   "source": [
    "import numpy as np\n",
    "import tensorflow as tf\n",
    "import collections\n",
    "from tensorflow import keras\n",
    "from tensorflow.keras import layers\n",
    "from tensorflow.keras import layers, optimizers, datasets\n",
    "\n",
    "start_token = 'bos'\n",
    "end_token = 'eos'\n",
    "\n",
    "def process_dataset(fileName):\n",
    "    examples = []\n",
    "    with open(fileName, 'r',encoding='utf-8') as fd:\n",
    "        for line in fd:\n",
    "            outs = line.strip().split(':')\n",
    "            content = ''.join(outs[1:])\n",
    "            ins = [start_token] + list(content) + [end_token] \n",
    "            if len(ins) > 200:\n",
    "                continue\n",
    "            examples.append(ins)\n",
    "            \n",
    "    counter = collections.Counter()\n",
    "    for e in examples:\n",
    "        for w in e:\n",
    "            counter[w]+=1\n",
    "    \n",
    "    sorted_counter = sorted(counter.items(), key=lambda x: -x[1])  # 排序\n",
    "    words, _ = zip(*sorted_counter)\n",
    "    words = ('PAD', 'UNK') + words[:len(words)]\n",
    "    word2id = dict(zip(words, range(len(words))))\n",
    "    id2word = {word2id[k]:k for k in word2id}\n",
    "    \n",
    "    indexed_examples = [[word2id[w] for w in poem]\n",
    "                        for poem in examples]\n",
    "    seqlen = [len(e) for e in indexed_examples]\n",
    "    \n",
    "    instances = list(zip(indexed_examples, seqlen))\n",
    "    \n",
    "    return instances, word2id, id2word\n",
    "\n",
    "def poem_dataset():\n",
    "    instances, word2id, id2word = process_dataset('./poems.txt')\n",
    "    ds = tf.data.Dataset.from_generator(lambda: [ins for ins in instances], \n",
    "                                            (tf.int64, tf.int64), \n",
    "                                            (tf.TensorShape([None]),tf.TensorShape([])))\n",
    "    ds = ds.shuffle(buffer_size=10240)\n",
    "    ds = ds.padded_batch(100, padded_shapes=(tf.TensorShape([None]),tf.TensorShape([])))\n",
    "    ds = ds.map(lambda x, seqlen: (x[:, :-1], x[:, 1:], seqlen-1))\n",
    "    return ds, word2id, id2word"
   ]
  },
  {
   "cell_type": "markdown",
   "metadata": {},
   "source": [
    "# 模型代码， 完成建模代码"
   ]
  },
  {
   "cell_type": "code",
   "execution_count": 21,
   "metadata": {},
   "outputs": [],
   "source": [
    "class myRNNModel(keras.Model):\n",
    "    def __init__(self, w2id):\n",
    "        super(myRNNModel, self).__init__()\n",
    "        self.v_sz = len(w2id)\n",
    "        self.embed_layer = tf.keras.layers.Embedding(self.v_sz, 64)\n",
    "        \n",
    "        self.rnncell = tf.keras.layers.SimpleRNNCell(128)\n",
    "        self.rnn_layer = tf.keras.layers.RNN(self.rnncell, return_sequences=True)\n",
    "        self.dense = tf.keras.layers.Dense(self.v_sz)\n",
    "        \n",
    "    @tf.function\n",
    "    def call(self, inp_ids):\n",
    "        '''\n",
    "        此处完成建模过程，可以参考Learn2Carry\n",
    "        '''\n",
    "        # 完整的前向传播逻辑\n",
    "        embeddings = self.embed_layer(inp_ids)  # shape: (batch_size, seq_len, 64)\n",
    "        rnn_output= self.rnn_layer(embeddings)\n",
    "        logits = self.dense(rnn_output)  # shape: (batch_size, seq_len, v_sz)\n",
    "        return logits\n",
    "    \n",
    "    @tf.function\n",
    "    def get_next_token(self, x, state):\n",
    "        '''\n",
    "        shape(x) = [b_sz,] \n",
    "        '''\n",
    "    \n",
    "        inp_emb = self.embed_layer(x) #shape(b_sz, emb_sz)\n",
    "        h, state = self.rnncell.call(inp_emb, state) # shape(b_sz, h_sz)\n",
    "        logits = self.dense(h) # shape(b_sz, v_sz)\n",
    "        out = tf.argmax(logits, axis=-1)\n",
    "        return out, state\n",
    "    def build(self, input_shape):\n",
    "        super().build(input_shape)"
   ]
  },
  {
   "cell_type": "markdown",
   "metadata": {},
   "source": [
    "## 一个计算sequence loss的辅助函数，只需了解用途。"
   ]
  },
  {
   "cell_type": "code",
   "execution_count": 22,
   "metadata": {},
   "outputs": [],
   "source": [
    "def mkMask(input_tensor, maxLen):\n",
    "    shape_of_input = tf.shape(input_tensor)\n",
    "    shape_of_output = tf.concat(axis=0, values=[shape_of_input, [maxLen]])\n",
    "\n",
    "    oneDtensor = tf.reshape(input_tensor, shape=(-1,))\n",
    "    flat_mask = tf.sequence_mask(oneDtensor, maxlen=maxLen)\n",
    "    return tf.reshape(flat_mask, shape_of_output)\n",
    "\n",
    "\n",
    "def reduce_avg(reduce_target, lengths, dim):\n",
    "    \"\"\"\n",
    "    Args:\n",
    "        reduce_target : shape(d_0, d_1,..,d_dim, .., d_k)\n",
    "        lengths : shape(d0, .., d_(dim-1))\n",
    "        dim : which dimension to average, should be a python number\n",
    "    \"\"\"\n",
    "    shape_of_lengths = lengths.get_shape()\n",
    "    shape_of_target = reduce_target.get_shape()\n",
    "    if len(shape_of_lengths) != dim:\n",
    "        raise ValueError(('Second input tensor should be rank %d, ' +\n",
    "                         'while it got rank %d') % (dim, len(shape_of_lengths)))\n",
    "    if len(shape_of_target) < dim+1 :\n",
    "        raise ValueError(('First input tensor should be at least rank %d, ' +\n",
    "                         'while it got rank %d') % (dim+1, len(shape_of_target)))\n",
    "\n",
    "    rank_diff = len(shape_of_target) - len(shape_of_lengths) - 1\n",
    "    mxlen = tf.shape(reduce_target)[dim]\n",
    "    mask = mkMask(lengths, mxlen)\n",
    "    if rank_diff!=0:\n",
    "        len_shape = tf.concat(axis=0, values=[tf.shape(lengths), [1]*rank_diff])\n",
    "        mask_shape = tf.concat(axis=0, values=[tf.shape(mask), [1]*rank_diff])\n",
    "    else:\n",
    "        len_shape = tf.shape(lengths)\n",
    "        mask_shape = tf.shape(mask)\n",
    "    lengths_reshape = tf.reshape(lengths, shape=len_shape)\n",
    "    mask = tf.reshape(mask, shape=mask_shape)\n",
    "\n",
    "    mask_target = reduce_target * tf.cast(mask, dtype=reduce_target.dtype)\n",
    "\n",
    "    red_sum = tf.reduce_sum(mask_target, axis=[dim], keepdims=False)\n",
    "    red_avg = red_sum / (tf.cast(lengths_reshape, dtype=tf.float32) + 1e-30)\n",
    "    return red_avg"
   ]
  },
  {
   "cell_type": "markdown",
   "metadata": {},
   "source": [
    "# 定义loss函数，定义训练函数"
   ]
  },
  {
   "cell_type": "code",
   "execution_count": 23,
   "metadata": {},
   "outputs": [],
   "source": [
    "@tf.function\n",
    "def compute_loss(logits, labels, seqlen):\n",
    "    losses = tf.nn.sparse_softmax_cross_entropy_with_logits(\n",
    "            logits=logits, labels=labels)\n",
    "    losses = reduce_avg(losses, seqlen, dim=1)\n",
    "    return tf.reduce_mean(losses)\n",
    "\n",
    "@tf.function(experimental_relax_shapes=True)\n",
    "def train_one_step(model, optimizer, x, y, seqlen):\n",
    "    '''\n",
    "    完成一步优化过程，可以参考之前做过的模型\n",
    "    '''\n",
    "    with tf.GradientTape() as tape:\n",
    "        # 前向传播：获取模型输出 logits\n",
    "        logits = model(x)\n",
    "        # 计算损失\n",
    "        loss = compute_loss(logits, y, seqlen)\n",
    "    # 计算梯度\n",
    "    gradients = tape.gradient(loss, model.trainable_variables)\n",
    "    # 应用梯度更新\n",
    "    optimizer.apply_gradients(zip(gradients, model.trainable_variables))\n",
    "    return loss\n",
    "\n",
    "def train(epoch, model, optimizer, ds):\n",
    "    loss = 0.0\n",
    "    accuracy = 0.0\n",
    "    for step, (x, y, seqlen) in enumerate(ds):\n",
    "        loss = train_one_step(model, optimizer, x, y, seqlen)\n",
    "\n",
    "        if step % 500 == 0:\n",
    "            print('epoch', epoch, ': loss', loss.numpy())\n",
    "\n",
    "    return loss"
   ]
  },
  {
   "cell_type": "markdown",
   "metadata": {},
   "source": [
    "# 训练优化过程"
   ]
  },
  {
   "cell_type": "code",
   "execution_count": 24,
   "metadata": {},
   "outputs": [
    {
     "name": "stdout",
     "output_type": "stream",
     "text": [
      "epoch 0 : loss 8.821012\n",
      "epoch 1 : loss 6.625804\n",
      "epoch 2 : loss 6.0384154\n",
      "epoch 3 : loss 5.841291\n",
      "epoch 4 : loss 5.659331\n",
      "epoch 5 : loss 5.584035\n",
      "epoch 6 : loss 5.3673873\n",
      "epoch 7 : loss 5.35361\n",
      "epoch 8 : loss 5.304324\n",
      "epoch 9 : loss 5.2393622\n",
      "epoch 10 : loss 5.2105694\n",
      "epoch 11 : loss 5.28596\n",
      "epoch 12 : loss 5.1616797\n",
      "epoch 13 : loss 5.0026193\n",
      "epoch 14 : loss 4.9741454\n",
      "epoch 15 : loss 4.9501534\n",
      "epoch 16 : loss 5.00656\n",
      "epoch 17 : loss 4.927034\n",
      "epoch 18 : loss 4.888111\n",
      "epoch 19 : loss 4.9201436\n",
      "epoch 20 : loss 4.8554416\n",
      "epoch 21 : loss 4.875818\n",
      "epoch 22 : loss 4.830716\n",
      "epoch 23 : loss 4.808032\n",
      "epoch 24 : loss 4.725497\n",
      "epoch 25 : loss 4.732128\n",
      "epoch 26 : loss 4.7191505\n",
      "epoch 27 : loss 4.7271347\n",
      "epoch 28 : loss 4.74349\n",
      "epoch 29 : loss 4.690366\n"
     ]
    }
   ],
   "source": [
    "optimizer = optimizers.Adam(0.0005)\n",
    "train_ds, word2id, id2word = poem_dataset()\n",
    "model = myRNNModel(word2id)\n",
    "model.build(input_shape=(None, None))\n",
    "for epoch in range(30):\n",
    "    loss = train(epoch, model, optimizer, train_ds)"
   ]
  },
  {
   "cell_type": "markdown",
   "metadata": {},
   "source": [
    "# 生成过程"
   ]
  },
  {
   "cell_type": "code",
   "execution_count": 25,
   "metadata": {},
   "outputs": [
    {
     "name": "stdout",
     "output_type": "stream",
     "text": [
      "eos人不可见，不是一枝枝。eos得无人事，何人不可寻。eos心无所思，何处是何人。eos子无人事，无人不可寻。eos心\n",
      "一声清，不见君。eos子不知不可知，不知不是人间人。eos来不是无人事，不得无人不得归。eos得不知何处处，不知\n",
      "eos君不见君王子，不得人间不得人。eos得不知何处处，不知何处是何人。eos来不是人间事，不是无人不得归。eos得\n",
      "天上春风起，风吹万里秋。eos心无限意，何处是何人。eos去无人事，何人不可寻。eos心无限意，何处是何人。eos子\n",
      "一夜月明月，山中不可寻。eos来无限意，不是故乡心。eos路无人事，无人不可寻。eos心无限意，何处是何人。eos子\n",
      "一片云云起，风吹万里秋。不知何处处，不见白云生。eos得无人事，何妨得此心。eos心无所思，何处是何人。eos子\n",
      "春风吹，一枝红。eos之一，不见人。eos之不，不见此。eos去不知何处。eos在不知何处，一片云中，不见此时。eos心\n",
      "人间不见，风雨不成。eos人不见，不见此中。eos处不知，不知何处，何人不可。eos之不是，何人不可。eos之不是，\n",
      "春风吹，风骚旨格》）eos，何处无人。eos心不可，三年不可。eos人不见，不见《风骚旨格》）eos女不知君不知，不\n",
      "高阁有秋风，不见山中路。eos来不可见，不是心中事。eos心不可见，不是心中人。eos心不可见，不得心中心。eos之\n",
      "九衢金玉凤，金缕玉金金。eos影随风雨，风吹入翠微。eos心无限意，何处是何人。eos子无人事，无人不可寻。eos心\n",
      "一片青山一片云，一声不见人间里。eos来不见白云间，一片月中人不知。eos人不见君不得，不得不知何处知。eos得\n",
      "一片春风起，春风一夜来。eos心无限意，何处是何人。eos去无人事，何人不可寻。eos心无限意，何处是何人。eos子\n",
      "一片云云动，风吹万里秋。eos心无限意，何处是何人。eos去无人事，何人不可寻。eos心无限意，何处是何人。eos子\n",
      "一朝天下不知名。eos来不得无人事，不是无人不得归。eos得不知何处处，不知何处是何人。eos来不是人间事，不是\n",
      "南国不知何处，不知何事无人。eos来不是君王，不知何事不知。eos之不是，一片月明，不知何处，不见此时。eos之\n",
      "风吹一片云中，__皎然eos兮不见，不见《风骚旨格》）eos女不知君，不如何处。eos心不得，不见此时。eos之不可\n",
      "eos世无人事，无人不可寻。eos心无所思，何处是何人。eos子无人事，无人不可寻。eos心无所思，何处是何人。eos子\n",
      "君子不知何处，不知何事无人。eos后不知何处，不见人间不得。eos来不是，不见此中，不知何处，何人不可。eos人\n",
      "天地无人事，风流不可寻。eos心无限意，何处是何人。eos子无人事，无人不可寻。eos心无所思，何处是何人。eos子\n"
     ]
    }
   ],
   "source": [
    "def gen_sentence():\n",
    "    state = [tf.random.normal(shape=(1, 128), stddev=0.5), tf.random.normal(shape=(1, 128), stddev=0.5)]\n",
    "    cur_token = tf.constant([word2id['bos']], dtype=tf.int32)\n",
    "    collect = []\n",
    "    for _ in range(50):\n",
    "        cur_token, state = model.get_next_token(cur_token, state)\n",
    "        collect.append(cur_token.numpy()[0])\n",
    "    return [id2word[t] for t in collect]\n",
    "for i in range(20):\n",
    "    print(''.join(gen_sentence()))"
   ]
  }
 ],
 "metadata": {
  "anaconda-cloud": {},
  "kernelspec": {
   "display_name": "Python 3",
   "language": "python",
   "name": "python3"
  },
  "language_info": {
   "codemirror_mode": {
    "name": "ipython",
    "version": 3
   },
   "file_extension": ".py",
   "mimetype": "text/x-python",
   "name": "python",
   "nbconvert_exporter": "python",
   "pygments_lexer": "ipython3",
   "version": "3.12.8"
  }
 },
 "nbformat": 4,
 "nbformat_minor": 1
}
